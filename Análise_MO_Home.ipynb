{
  "nbformat": 4,
  "nbformat_minor": 0,
  "metadata": {
    "colab": {
      "provenance": [],
      "authorship_tag": "ABX9TyOkaq2MEXlfNN5n/5ODirqQ",
      "include_colab_link": true
    },
    "kernelspec": {
      "name": "python3",
      "display_name": "Python 3"
    },
    "language_info": {
      "name": "python"
    }
  },
  "cells": [
    {
      "cell_type": "markdown",
      "metadata": {
        "id": "view-in-github",
        "colab_type": "text"
      },
      "source": [
        "<a href=\"https://colab.research.google.com/github/RedLegacy227/Jogos/blob/main/An%C3%A1lise_MO_Home.ipynb\" target=\"_parent\"><img src=\"https://colab.research.google.com/assets/colab-badge.svg\" alt=\"Open In Colab\"/></a>"
      ]
    },
    {
      "cell_type": "code",
      "execution_count": 1,
      "metadata": {
        "id": "dPJWJXnQ8ChW"
      },
      "outputs": [],
      "source": [
        "# Importando as Bibliotecas Básicas\n",
        "import pandas as pd\n",
        "import numpy as np\n",
        "import warnings\n",
        "warnings.filterwarnings('ignore')\n",
        "from google.colab import data_table\n",
        "data_table.enable_dataframe_formatter()\n",
        "# Importando a Biblioteca do KNN\n",
        "from sklearn.neighbors import KNeighborsClassifier\n",
        "# Importando a Biblioteca de Acurácia, Matriz de Confusão (em quantos jogos entrou em quantos foi green ou red)\n",
        "from sklearn.metrics import accuracy_score, confusion_matrix\n",
        "# Importando a Biblioteca SkLearn para padronizar os dados (entre 0 e 1)\n",
        "from sklearn.preprocessing import StandardScaler\n",
        "# Importando a Biblioteca SkLearn para dividir os dados entre treinamento e teste\n",
        "from sklearn.model_selection import train_test_split\n",
        ""
      ]
    },
    {
      "cell_type": "code",
      "source": [
        "# DataFrame do Campeonato Brasileiro\n",
        "df = pd.read_excel(\"https://github.com/RedLegacy227/Jogos/blob/main/Portugal.xlsx\")"
      ],
      "metadata": {
        "id": "ydN4J82nkFhZ"
      },
      "execution_count": null,
      "outputs": []
    },
    {
      "cell_type": "code",
      "source": [
        "df = df[['Date','HomeTeam','AwayTeam','FTHG','FTAG','FTR','HODD','DODD','AODD','O25','U25' ]]\n",
        "df.columns = ['Date','Home','Away','Goals_H','Goals_A','Result','Odds_H','Odds_D','Odds_A','Over 25','Under 25']"
      ],
      "metadata": {
        "id": "R8U1iteQkTls"
      },
      "execution_count": null,
      "outputs": []
    },
    {
      "cell_type": "code",
      "source": [
        "# Resetando o Index\n",
        "df.reset_index(inplace=True, drop=True)\n",
        "df.index = df.index.set_names(['Nº'])\n",
        "df = df.rename(index=lambda x: x + 1)\n",
        "df = df.dropna()"
      ],
      "metadata": {
        "id": "Htc_5bGelj2S"
      },
      "execution_count": null,
      "outputs": []
    },
    {
      "cell_type": "code",
      "source": [
        "def Prob_Home():\n",
        "    P_H = 1/df.Odds_H\n",
        "    return P_H\n",
        "\n",
        "def Prob_Draw():\n",
        "    P_D = 1/df.Odds_D\n",
        "    return P_D\n",
        "\n",
        "def Prob_Away():\n",
        "    P_A = 1/df.Odds_A\n",
        "    return P_A"
      ],
      "metadata": {
        "id": "6mG_PnF6lkdS"
      },
      "execution_count": null,
      "outputs": []
    },
    {
      "cell_type": "code",
      "source": [
        "df['p_H'] = Prob_Home()\n",
        "df['p_D'] = Prob_Draw()\n",
        "df['p_A'] = Prob_Away()"
      ],
      "metadata": {
        "id": "E-yauGrNlpDA"
      },
      "execution_count": null,
      "outputs": []
    },
    {
      "cell_type": "code",
      "source": [
        "def Valor_do_Gol_H():\n",
        "    VG_H = df.Goals_H * df.p_A\n",
        "    return VG_H\n",
        "\n",
        "def Valor_do_Gol_A():\n",
        "    VG_A = df.Goals_A * df.p_H\n",
        "    return VG_A"
      ],
      "metadata": {
        "id": "RIb3_jcolq5x"
      },
      "execution_count": null,
      "outputs": []
    },
    {
      "cell_type": "code",
      "source": [
        "df['Valor_do_Gol_H'] = Valor_do_Gol_H()\n",
        "df['Valor_do_Gol_A'] = Valor_do_Gol_A()"
      ],
      "metadata": {
        "id": "5j257J2bltX-"
      },
      "execution_count": null,
      "outputs": []
    },
    {
      "cell_type": "code",
      "source": [
        "df['Media_Valor_do_Gol_H'] = df.groupby('Home')['Valor_do_Gol_H'].rolling(window=5, min_periods=1).mean().reset_index(0,drop=True).shift(1)\n",
        "df['Media_Valor_do_Gol_A'] = df.groupby('Away')['Valor_do_Gol_A'].rolling(window=5, min_periods=1).mean().reset_index(0,drop=True).shift(1)"
      ],
      "metadata": {
        "id": "LIjqv3R9lvwQ"
      },
      "execution_count": null,
      "outputs": []
    },
    {
      "cell_type": "code",
      "source": [
        "def Custo_do_Gol_H():\n",
        "    CG_H = df.p_H / df.Goals_H\n",
        "    return CG_H\n",
        "\n",
        "def Custo_do_Gol_A():\n",
        "    CG_A = df.p_A / df.Goals_A\n",
        "    return CG_A"
      ],
      "metadata": {
        "id": "vHSwsCkrlxwB"
      },
      "execution_count": null,
      "outputs": []
    },
    {
      "cell_type": "code",
      "source": [
        "df['Custo_do_Gol_H'] = Custo_do_Gol_H()\n",
        "df['Custo_do_Gol_A'] = Custo_do_Gol_A()"
      ],
      "metadata": {
        "id": "pJrG7_lzlziS"
      },
      "execution_count": null,
      "outputs": []
    },
    {
      "cell_type": "code",
      "source": [
        "df.replace(np.inf, 1, inplace=True)"
      ],
      "metadata": {
        "id": "v6DuPXJ-l1d_"
      },
      "execution_count": null,
      "outputs": []
    },
    {
      "cell_type": "code",
      "source": [
        "df['Media_Custo_do_Gol_H'] = df.groupby('Home')['Custo_do_Gol_H'].rolling(window=5, min_periods=1).mean().reset_index(0,drop=True).shift(1)\n",
        "df['Media_Custo_do_Gol_A'] = df.groupby('Away')['Custo_do_Gol_A'].rolling(window=5, min_periods=1).mean().reset_index(0,drop=True).shift(1)"
      ],
      "metadata": {
        "id": "Cndyis5pl3RQ"
      },
      "execution_count": null,
      "outputs": []
    },
    {
      "cell_type": "code",
      "source": [
        "team = \"Arouca\"\n",
        "df1 = df.groupby(['Home']).get_group(team)\n",
        "df2 = df1[['Home','Away','Goals_H','Goals_A','Result','Media_Valor_do_Gol_H','Media_Valor_do_Gol_A','Media_Custo_do_Gol_H','Media_Custo_do_Gol_A']]\n",
        "df2.tail(5)"
      ],
      "metadata": {
        "id": "oJM48ooml55F"
      },
      "execution_count": null,
      "outputs": []
    }
  ]
}