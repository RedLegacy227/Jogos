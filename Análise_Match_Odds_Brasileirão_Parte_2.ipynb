{
  "nbformat": 4,
  "nbformat_minor": 0,
  "metadata": {
    "colab": {
      "provenance": [],
      "private_outputs": true,
      "include_colab_link": true
    },
    "kernelspec": {
      "name": "python3",
      "display_name": "Python 3"
    },
    "language_info": {
      "name": "python"
    }
  },
  "cells": [
    {
      "cell_type": "markdown",
      "metadata": {
        "id": "view-in-github",
        "colab_type": "text"
      },
      "source": [
        "<a href=\"https://colab.research.google.com/github/RedLegacy227/Jogos/blob/main/An%C3%A1lise_Match_Odds_Brasileir%C3%A3o_Parte_2.ipynb\" target=\"_parent\"><img src=\"https://colab.research.google.com/assets/colab-badge.svg\" alt=\"Open In Colab\"/></a>"
      ]
    },
    {
      "cell_type": "markdown",
      "source": [
        "# Importação das Bibliotecas e do DataFrame"
      ],
      "metadata": {
        "id": "K5Vh7213vdnh"
      }
    },
    {
      "cell_type": "code",
      "execution_count": null,
      "metadata": {
        "id": "bknPLhIHeKs1"
      },
      "outputs": [],
      "source": [
        "# Importando as Bibliotecas\n",
        "import pandas as pd\n",
        "import numpy as np\n",
        "from google.colab import data_table\n",
        "data_table.enable_dataframe_formatter()\n",
        "import warnings\n",
        "warnings.filterwarnings('ignore')"
      ]
    },
    {
      "cell_type": "code",
      "source": [
        "# DataFrame do Campeonato Brasileiro\n",
        "df = pd.read_excel(\"https://www.football-data.co.uk/new/BRA.xlsx\")"
      ],
      "metadata": {
        "id": "TQQpHVhVex3O"
      },
      "execution_count": null,
      "outputs": []
    },
    {
      "cell_type": "code",
      "source": [
        "df = df[['Season','Date','Home','Away','HG','AG','Res','PH','PD','PA']]\n",
        "df.columns = ['Season','Date','Home','Away','Goals_H','Goals_A','Result','Odds_H','Odds_D','Odds_A']"
      ],
      "metadata": {
        "id": "0QGv6XgttbiK"
      },
      "execution_count": null,
      "outputs": []
    },
    {
      "cell_type": "code",
      "source": [
        "# Filtrando as Temporadas\n",
        "flt = (df.Season == 2021) | (df.Season == 2022)\n",
        "df = df[flt]\n",
        "# Resetando o Index\n",
        "df.reset_index(inplace=True, drop=True)\n",
        "df.index = df.index.set_names(['Nº'])\n",
        "df = df.rename(index=lambda x: x + 1)\n",
        "df = df.dropna()"
      ],
      "metadata": {
        "id": "EDetcvXRurYV"
      },
      "execution_count": null,
      "outputs": []
    },
    {
      "cell_type": "markdown",
      "source": [
        "# Variáveis Secundárias"
      ],
      "metadata": {
        "id": "1zqYPiyawOfy"
      }
    },
    {
      "cell_type": "code",
      "source": [
        "def Prob_Home():\n",
        "    P_H = 1/df.Odds_H\n",
        "    return P_H\n",
        "\n",
        "def Prob_Draw():\n",
        "    P_D = 1/df.Odds_D\n",
        "    return P_D\n",
        "\n",
        "def Prob_Away():\n",
        "    P_A = 1/df.Odds_A\n",
        "    return P_A"
      ],
      "metadata": {
        "id": "tgLAGqcEwX3_"
      },
      "execution_count": null,
      "outputs": []
    },
    {
      "cell_type": "code",
      "source": [
        "df['p_H'] = Prob_Home()\n",
        "df['p_D'] = Prob_Draw()\n",
        "df['p_A'] = Prob_Away()"
      ],
      "metadata": {
        "id": "UfJssd3JvujZ"
      },
      "execution_count": null,
      "outputs": []
    },
    {
      "cell_type": "code",
      "source": [
        "def Valor_do_Gol_H():\n",
        "    VG_H = df.Goals_H * df.p_A\n",
        "    return VG_H\n",
        "\n",
        "def Valor_do_Gol_A():\n",
        "    VG_A = df.Goals_A * df.p_H\n",
        "    return VG_A"
      ],
      "metadata": {
        "id": "28h_8p-8eDmT"
      },
      "execution_count": null,
      "outputs": []
    },
    {
      "cell_type": "code",
      "source": [
        "df['Valor_do_Gol_H'] = Valor_do_Gol_H()\n",
        "df['Valor_do_Gol_A'] = Valor_do_Gol_A()"
      ],
      "metadata": {
        "id": "ELwVREL1ezXX"
      },
      "execution_count": null,
      "outputs": []
    },
    {
      "cell_type": "code",
      "source": [
        "df['Media_Valor_do_Gol_H'] = df.groupby('Home')['Valor_do_Gol_H'].rolling(window=5, min_periods=1).mean().reset_index(0,drop=True).shift(1)\n",
        "df['Media_Valor_do_Gol_A'] = df.groupby('Away')['Valor_do_Gol_A'].rolling(window=5, min_periods=1).mean().reset_index(0,drop=True).shift(1)"
      ],
      "metadata": {
        "id": "lPO_Xhise-Rf"
      },
      "execution_count": null,
      "outputs": []
    },
    {
      "cell_type": "code",
      "source": [
        "def Custo_do_Gol_H():\n",
        "    CG_H = df.p_H / df.Goals_H\n",
        "    return CG_H\n",
        "\n",
        "def Custo_do_Gol_A():\n",
        "    CG_A = df.p_A / df.Goals_A\n",
        "    return CG_A"
      ],
      "metadata": {
        "id": "XyYjY-1il6M4"
      },
      "execution_count": null,
      "outputs": []
    },
    {
      "cell_type": "code",
      "source": [
        "df['Custo_do_Gol_H'] = Custo_do_Gol_H()\n",
        "df['Custo_do_Gol_A'] = Custo_do_Gol_A()"
      ],
      "metadata": {
        "id": "4NtkIx-lmm-I"
      },
      "execution_count": null,
      "outputs": []
    },
    {
      "cell_type": "code",
      "source": [
        "df.replace(np.inf, 1, inplace=True)"
      ],
      "metadata": {
        "id": "MUq4EpgpwqJD"
      },
      "execution_count": null,
      "outputs": []
    },
    {
      "cell_type": "code",
      "source": [
        "df['Media_Custo_do_Gol_H'] = df.groupby('Home')['Custo_do_Gol_H'].rolling(window=5, min_periods=1).mean().reset_index(0,drop=True).shift(1)\n",
        "df['Media_Custo_do_Gol_A'] = df.groupby('Away')['Custo_do_Gol_A'].rolling(window=5, min_periods=1).mean().reset_index(0,drop=True).shift(1)"
      ],
      "metadata": {
        "id": "9anlhC1Cmnha"
      },
      "execution_count": null,
      "outputs": []
    },
    {
      "cell_type": "code",
      "source": [
        "team = \"Sao Paulo\"\n",
        "df1 = df.groupby(['Home']).get_group(team)\n",
        "df2 = df1[['Home','Away','Goals_H','Goals_A','Result','Media_Valor_do_Gol_H','Media_Valor_do_Gol_A','Media_Custo_do_Gol_H','Media_Custo_do_Gol_A']]\n",
        "df2.tail(5)"
      ],
      "metadata": {
        "id": "XmfMJmIafmKV"
      },
      "execution_count": null,
      "outputs": []
    }
  ]
}